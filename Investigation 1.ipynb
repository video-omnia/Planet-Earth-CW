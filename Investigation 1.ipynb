{
 "cells": [
  {
   "cell_type": "code",
   "execution_count": 48,
   "metadata": {},
   "outputs": [],
   "source": [
    "from scipy.optimize import minimize\n",
    "import numpy as np\n",
    "import matplotlib.pyplot as plt"
   ]
  },
  {
   "cell_type": "code",
   "execution_count": 33,
   "metadata": {},
   "outputs": [],
   "source": [
    "def solarWeighting(y):\n",
    "\n",
    "    if (y > 1) or (y < 0):\n",
    "        raise ValueError(\"y must be bewteen 0 and 1\")\n",
    "    \n",
    "    return 1 - 0.482*(3*y**2 - 1)/2"
   ]
  },
  {
   "cell_type": "markdown",
   "metadata": {},
   "source": [
    "Investigation 1A"
   ]
  },
  {
   "cell_type": "code",
   "execution_count": 22,
   "metadata": {},
   "outputs": [],
   "source": [
    "# FUNCTION: GIVEN iceLine, return needed Q, solar flux constant\n",
    "\n",
    "def solarFluxfromIceLine(iceLine):\n",
    "\n",
    "    if (iceLine > 1) or (iceLine < 0):\n",
    "        raise ValueError(\"iceLine must be bewteen 0 and 1\")\n",
    "    \n",
    "    \n",
    "    criticalTemperature = -10 \n",
    "    outgoingRadiationA = 202\n",
    "    outgoingRadiationB = 1.9\n",
    "    transportCoefficient = 1.6*outgoingRadiationB\n",
    "    albedoWater = 0.32\n",
    "    albedoIce = 0.62\n",
    "    albedoBar = lambda iceLine: albedoIce + (albedoWater - albedoIce)*iceLine*(1 - 0.241*(iceLine**2 - 1))\n",
    "    solarweighting = lambda iceline: 1 - 0.482*(3*iceline**2 - 1)/2\n",
    "    \n",
    "    return (criticalTemperature + outgoingRadiationA/outgoingRadiationB)*(outgoingRadiationB+transportCoefficient)/(solarweighting(iceLine)*(1 - (albedoIce+albedoWater)/2) + transportCoefficient/outgoingRadiationB*(1 - albedoBar(iceLine)))\n",
    "\n",
    "    \n",
    "    "
   ]
  },
  {
   "cell_type": "markdown",
   "metadata": {},
   "source": [
    "Suppose we start with an iceline near the north pole at y = 0.9 which requires Q ~ 338"
   ]
  },
  {
   "cell_type": "code",
   "execution_count": 29,
   "metadata": {},
   "outputs": [
    {
     "data": {
      "text/plain": [
       "338.1356988448338"
      ]
     },
     "execution_count": 29,
     "metadata": {},
     "output_type": "execute_result"
    }
   ],
   "source": [
    "solarFluxfromIceLine(0.9)"
   ]
  },
  {
   "cell_type": "markdown",
   "metadata": {},
   "source": [
    "When decreasing the solar flux, Q, the solution trajectory tends towards a critical tipping point. This value of Q can be found by solving the minimosation problem of our equation for solar flux."
   ]
  },
  {
   "cell_type": "code",
   "execution_count": 30,
   "metadata": {},
   "outputs": [
    {
     "data": {
      "text/plain": [
       "  message: CONVERGENCE: NORM_OF_PROJECTED_GRADIENT_<=_PGTOL\n",
       "  success: True\n",
       "   status: 0\n",
       "      fun: 325.8339447002967\n",
       "        x: [ 6.092e-01]\n",
       "      nit: 3\n",
       "      jac: [-5.684e-06]\n",
       "     nfev: 10\n",
       "     njev: 5\n",
       " hess_inv: <1x1 LbfgsInvHessProduct with dtype=float64>"
      ]
     },
     "execution_count": 30,
     "metadata": {},
     "output_type": "execute_result"
    }
   ],
   "source": [
    "minimize(solarFluxfromIceLine, [0.5], bounds=[(0,1)])"
   ]
  },
  {
   "cell_type": "markdown",
   "metadata": {},
   "source": [
    "This shows the minimum is obtained at iceLine = 0.6 with Q ~ 325. Therefore to achieve the jump to the ice only steady state from the partially iced steady state, Q needs to decrease (338-325) = 13 {insert units}."
   ]
  },
  {
   "cell_type": "markdown",
   "metadata": {},
   "source": [
    "To move away from the ice only steady state we need to increase Q up to another critical tipping point doint due to hysteresis preventing us from returning to the original steady state. The ice only state has an upper bound of ~441 {units}. Therefore to start the ice retreating form the equator we need to increase Q by (441-325) = 116 {units}."
   ]
  },
  {
   "cell_type": "markdown",
   "metadata": {},
   "source": [
    "Investigation 1B"
   ]
  },
  {
   "cell_type": "code",
   "execution_count": 34,
   "metadata": {},
   "outputs": [],
   "source": [
    "def Qmin(A,B,Tc,k):\n",
    "    return ((B+k)*(Tc + A/B))/((1-0.32)*(solarWeighting(1)+k/B))"
   ]
  },
  {
   "cell_type": "code",
   "execution_count": 53,
   "metadata": {},
   "outputs": [
    {
     "data": {
      "text/plain": [
       "519.532137179196"
      ]
     },
     "execution_count": 53,
     "metadata": {},
     "output_type": "execute_result"
    }
   ],
   "source": [
    "Qmin(202,1.9,-10,0)"
   ]
  },
  {
   "cell_type": "code",
   "execution_count": 36,
   "metadata": {},
   "outputs": [],
   "source": [
    "def Qmax(A,B,Tc,k):\n",
    "    return ((B+k)*(Tc + A/B))/((1-0.62)*(solarWeighting(0)+k/B))"
   ]
  },
  {
   "cell_type": "code",
   "execution_count": null,
   "metadata": {},
   "outputs": [],
   "source": []
  },
  {
   "cell_type": "code",
   "execution_count": 51,
   "metadata": {},
   "outputs": [],
   "source": [
    "kArray = np.linspace(0, 20, 100)\n",
    "kQmaxArray = Qmax(202,1.9,-10,kArray)\n",
    "kQminArray = Qmin(202,1.9,-10,kArray)\n",
    "                  "
   ]
  },
  {
   "cell_type": "code",
   "execution_count": 60,
   "metadata": {},
   "outputs": [
    {
     "data": {
      "text/plain": [
       "<matplotlib.legend.Legend at 0x16a4668e0>"
      ]
     },
     "execution_count": 60,
     "metadata": {},
     "output_type": "execute_result"
    },
    {
     "data": {
      "image/png": "[encoded data removed]",
      "text/plain": [
       "<Figure size 640x480 with 1 Axes>"
      ]
     },
     "metadata": {},
     "output_type": "display_data"
    }
   ],
   "source": [
    "plt.plot(kArray, kQmaxArray,label='Qmax')\n",
    "plt.plot(kArray, kQminArray,label='Qmin')\n",
    "plt.plot([0, 20],[342, 342],label='')\n",
    "plt.xlabel('k')\n",
    "plt.ylabel('Q')\n",
    "plt.grid(1)\n",
    "plt.legend()\n"
   ]
  },
  {
   "cell_type": "code",
   "execution_count": null,
   "metadata": {},
   "outputs": [],
   "source": []
  }
 ],
 "metadata": {
  "kernelspec": {
   "display_name": "Python 3",
   "language": "python",
   "name": "python3"
  },
  "language_info": {
   "codemirror_mode": {
    "name": "ipython",
    "version": 3
   },
   "file_extension": ".py",
   "mimetype": "text/x-python",
   "name": "python",
   "nbconvert_exporter": "python",
   "pygments_lexer": "ipython3",
   "version": "3.9.6"
  }
 },
 "nbformat": 4,
 "nbformat_minor": 2
}
