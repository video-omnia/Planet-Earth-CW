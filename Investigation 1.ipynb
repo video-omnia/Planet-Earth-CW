{
 "cells": [
  {
   "cell_type": "code",
   "execution_count": 9,
   "metadata": {},
   "outputs": [],
   "source": [
    "# FUNCTION: GIVEN iceLine, return needed Q, solar flux constant, rounded to the nearest whole number\n",
    "\n",
    "def solarFluxfromIceLine(iceLine):\n",
    "\n",
    "    if (iceLine > 1) or (iceLine < 0):\n",
    "        raise ValueError(\"iceLine must be bewteen 0 and 1\")\n",
    "    \n",
    "    \n",
    "    criticalTemperature = -10 \n",
    "    outgoingRadiationA = 202\n",
    "    outgoingRadiationB = 1.9\n",
    "    transportCoefficient = 1.6*outgoingRadiationB\n",
    "    albedoWater = 0.32\n",
    "    albedoIce = 0.62\n",
    "    albedoBar = lambda iceLine: albedoIce + (albedoWater - albedoIce)*iceLine*(1 - 0.241*(iceLine**2 - 1))\n",
    "    solarweighting = lambda iceline: 1 - 0.482*(3*iceline**2 - 1)/2\n",
    "\n",
    "\n",
    "    if iceLine == 0: # iceLine at equator\n",
    "        return 330\n",
    "    elif iceLine == 1: # iceLine at north pole/no ice line\n",
    "        return 441\n",
    "    else:\n",
    "        return round((criticalTemperature + outgoingRadiationA/outgoingRadiationB)*(outgoingRadiationB+transportCoefficient)/(solarweighting(iceLine)*(1 - (albedoIce+albedoWater)/2) + transportCoefficient/outgoingRadiationB*(1 - albedoBar(iceLine))),0)\n",
    "\n",
    "    \n",
    "    "
   ]
  },
  {
   "cell_type": "markdown",
   "metadata": {},
   "source": [
    "Suppose we start with an iceline near the north pole at y = 0.9 which requires Q ~ 338"
   ]
  },
  {
   "cell_type": "code",
   "execution_count": 11,
   "metadata": {},
   "outputs": [
    {
     "data": {
      "text/plain": [
       "338.0"
      ]
     },
     "execution_count": 11,
     "metadata": {},
     "output_type": "execute_result"
    }
   ],
   "source": [
    "solarFluxfromIceLine(0.9)"
   ]
  },
  {
   "cell_type": "markdown",
   "metadata": {},
   "source": [
    "For a completly ice covered earth we need Q to be at minimum 330, so we need a decrease of ~ 8 W/m^2"
   ]
  },
  {
   "cell_type": "code",
   "execution_count": 12,
   "metadata": {},
   "outputs": [
    {
     "data": {
      "text/plain": [
       "8.0"
      ]
     },
     "execution_count": 12,
     "metadata": {},
     "output_type": "execute_result"
    }
   ],
   "source": [
    "solarFluxfromIceLine(0.9) - 330"
   ]
  },
  {
   "cell_type": "code",
   "execution_count": null,
   "metadata": {},
   "outputs": [],
   "source": []
  }
 ],
 "metadata": {
  "kernelspec": {
   "display_name": "Python 3",
   "language": "python",
   "name": "python3"
  },
  "language_info": {
   "codemirror_mode": {
    "name": "ipython",
    "version": 3
   },
   "file_extension": ".py",
   "mimetype": "text/x-python",
   "name": "python",
   "nbconvert_exporter": "python",
   "pygments_lexer": "ipython3",
   "version": "3.9.6"
  }
 },
 "nbformat": 4,
 "nbformat_minor": 2
}
